{
 "cells": [
  {
   "cell_type": "code",
   "execution_count": 1,
   "metadata": {},
   "outputs": [
    {
     "name": "stderr",
     "output_type": "stream",
     "text": [
      "RDKit WARNING: [18:53:57] Enabling RDKit 2019.09.3 jupyter extensions\n"
     ]
    }
   ],
   "source": [
    "import rdkit"
   ]
  },
  {
   "cell_type": "code",
   "execution_count": 4,
   "metadata": {},
   "outputs": [],
   "source": [
    "data_path = 'retro_transformer_data/USPTO-50k_no_rxn/'\n",
    "data_name = 'src-train.txt'"
   ]
  },
  {
   "cell_type": "code",
   "execution_count": 5,
   "metadata": {},
   "outputs": [],
   "source": [
    "with open(data_path+data_name, 'r') as f:\n",
    "    lines = f.readlines()"
   ]
  },
  {
   "cell_type": "code",
   "execution_count": 182,
   "metadata": {},
   "outputs": [
    {
     "data": {
      "text/plain": [
       "'O = C 1 C C [C@H] ( C N 2 C C N ( C C O c 3 c c 4 n c n c ( N c 5 c c c ( F ) c ( Cl ) c 5 ) c 4 c c 3 O C 3 C C C C 3 ) C C 2 ) O 1\\n'"
      ]
     },
     "execution_count": 182,
     "metadata": {},
     "output_type": "execute_result"
    }
   ],
   "source": [
    "lines[0]"
   ]
  },
  {
   "cell_type": "code",
   "execution_count": 183,
   "metadata": {},
   "outputs": [],
   "source": [
    "import pandas as pd"
   ]
  },
  {
   "cell_type": "code",
   "execution_count": 184,
   "metadata": {},
   "outputs": [],
   "source": [
    "data = pd.read_csv(data_path+data_name, names=['smiles'])"
   ]
  },
  {
   "cell_type": "code",
   "execution_count": 185,
   "metadata": {},
   "outputs": [
    {
     "data": {
      "text/html": [
       "<div>\n",
       "<style scoped>\n",
       "    .dataframe tbody tr th:only-of-type {\n",
       "        vertical-align: middle;\n",
       "    }\n",
       "\n",
       "    .dataframe tbody tr th {\n",
       "        vertical-align: top;\n",
       "    }\n",
       "\n",
       "    .dataframe thead th {\n",
       "        text-align: right;\n",
       "    }\n",
       "</style>\n",
       "<table border=\"1\" class=\"dataframe\">\n",
       "  <thead>\n",
       "    <tr style=\"text-align: right;\">\n",
       "      <th></th>\n",
       "      <th>smiles</th>\n",
       "    </tr>\n",
       "  </thead>\n",
       "  <tbody>\n",
       "    <tr>\n",
       "      <th>0</th>\n",
       "      <td>O = C 1 C C [C@H] ( C N 2 C C N ( C C O c 3 c ...</td>\n",
       "    </tr>\n",
       "    <tr>\n",
       "      <th>1</th>\n",
       "      <td>N c 1 n c 2 [nH] c ( C C C c 3 c s c ( C ( = O...</td>\n",
       "    </tr>\n",
       "    <tr>\n",
       "      <th>2</th>\n",
       "      <td>C C 1 ( C ) O B ( c 2 c c c c ( N c 3 n c c c ...</td>\n",
       "    </tr>\n",
       "    <tr>\n",
       "      <th>3</th>\n",
       "      <td>C C ( C ) ( C ) O C ( = O ) N C C ( = O ) C C ...</td>\n",
       "    </tr>\n",
       "    <tr>\n",
       "      <th>4</th>\n",
       "      <td>F c 1 c c 2 c ( N C 3 C C C C C C 3 ) n c n c ...</td>\n",
       "    </tr>\n",
       "    <tr>\n",
       "      <th>...</th>\n",
       "      <td>...</td>\n",
       "    </tr>\n",
       "    <tr>\n",
       "      <th>40024</th>\n",
       "      <td>C C C n 1 c c ( C C ) n c 1 - c 1 c n c ( N c ...</td>\n",
       "    </tr>\n",
       "    <tr>\n",
       "      <th>40025</th>\n",
       "      <td>C O c 1 c c c 2 n c c c ( N 3 C [C@@H] 4 C [C@...</td>\n",
       "    </tr>\n",
       "    <tr>\n",
       "      <th>40026</th>\n",
       "      <td>C C O C ( = O ) C 1 ( c 2 c c c ( - c 3 c c c ...</td>\n",
       "    </tr>\n",
       "    <tr>\n",
       "      <th>40027</th>\n",
       "      <td>C O C ( = O ) c 1 n c c ( N S ( = O ) ( = O ) ...</td>\n",
       "    </tr>\n",
       "    <tr>\n",
       "      <th>40028</th>\n",
       "      <td>C c 1 n c 2 c c c c c 2 n 1 - c 1 n c ( N 2 C ...</td>\n",
       "    </tr>\n",
       "  </tbody>\n",
       "</table>\n",
       "<p>40029 rows × 1 columns</p>\n",
       "</div>"
      ],
      "text/plain": [
       "                                                  smiles\n",
       "0      O = C 1 C C [C@H] ( C N 2 C C N ( C C O c 3 c ...\n",
       "1      N c 1 n c 2 [nH] c ( C C C c 3 c s c ( C ( = O...\n",
       "2      C C 1 ( C ) O B ( c 2 c c c c ( N c 3 n c c c ...\n",
       "3      C C ( C ) ( C ) O C ( = O ) N C C ( = O ) C C ...\n",
       "4      F c 1 c c 2 c ( N C 3 C C C C C C 3 ) n c n c ...\n",
       "...                                                  ...\n",
       "40024  C C C n 1 c c ( C C ) n c 1 - c 1 c n c ( N c ...\n",
       "40025  C O c 1 c c c 2 n c c c ( N 3 C [C@@H] 4 C [C@...\n",
       "40026  C C O C ( = O ) C 1 ( c 2 c c c ( - c 3 c c c ...\n",
       "40027  C O C ( = O ) c 1 n c c ( N S ( = O ) ( = O ) ...\n",
       "40028  C c 1 n c 2 c c c c c 2 n 1 - c 1 n c ( N 2 C ...\n",
       "\n",
       "[40029 rows x 1 columns]"
      ]
     },
     "execution_count": 185,
     "metadata": {},
     "output_type": "execute_result"
    }
   ],
   "source": [
    "data"
   ]
  },
  {
   "cell_type": "code",
   "execution_count": 224,
   "metadata": {},
   "outputs": [
    {
     "data": {
      "text/plain": [
       "'COc1ccc(CN(C(=O)OCc2ccccc2)[C@@H]2C(=O)N(Cc3ccc(OC)cc3OC)[C@@H]2CC=C(Br)Br)cc1'"
      ]
     },
     "execution_count": 224,
     "metadata": {},
     "output_type": "execute_result"
    }
   ],
   "source": [
    "smi = data.iloc[9].smiles.strip().replace(' ', '')\n",
    "smi"
   ]
  },
  {
   "cell_type": "code",
   "execution_count": 225,
   "metadata": {},
   "outputs": [],
   "source": [
    "import rdkit.Chem.rdmolfiles as R\n",
    "import rdkit.Chem.Draw as D\n",
    "import rdkit.Chem as C"
   ]
  },
  {
   "cell_type": "code",
   "execution_count": 226,
   "metadata": {},
   "outputs": [
    {
     "data": {
      "image/png": "[encoded data removed]",
      "text/plain": [
       "<rdkit.Chem.rdchem.Mol at 0x11b98fc10>"
      ]
     },
     "execution_count": 226,
     "metadata": {},
     "output_type": "execute_result"
    }
   ],
   "source": [
    "mol = R.MolFromSmiles(smi)\n",
    "mol"
   ]
  },
  {
   "cell_type": "code",
   "execution_count": 227,
   "metadata": {},
   "outputs": [
    {
     "data": {
      "text/plain": [
       "'c1(ccc(OC)cc1)CN([C@H]1[C@H](N(C1=O)Cc1ccc(cc1OC)OC)CC=C(Br)Br)C(=O)OCc1ccccc1'"
      ]
     },
     "execution_count": 227,
     "metadata": {},
     "output_type": "execute_result"
    }
   ],
   "source": [
    "# use_atom=[i for i in range(mol.GetNumAtoms())]\n",
    "# mol1_prime=R.MolFragmentToSmiles(mol1, use_atom, canonical=False, doRandom=True)\n",
    "smi_aug_1=C.MolToSmiles(mol, doRandom=True)\n",
    "smi_aug_1\n"
   ]
  },
  {
   "cell_type": "code",
   "execution_count": 228,
   "metadata": {},
   "outputs": [
    {
     "data": {
      "image/png": "[encoded data removed]",
      "text/plain": [
       "<rdkit.Chem.rdchem.Mol at 0x11b7c46c0>"
      ]
     },
     "execution_count": 228,
     "metadata": {},
     "output_type": "execute_result"
    }
   ],
   "source": [
    "mol_aug_1=R.MolFromSmiles(smi_aug_1)\n",
    "mol_aug_1"
   ]
  },
  {
   "cell_type": "code",
   "execution_count": 229,
   "metadata": {},
   "outputs": [],
   "source": [
    "regex = '(\\[[^\\[\\]]{1,6}\\])'\n",
    "import re"
   ]
  },
  {
   "cell_type": "code",
   "execution_count": 230,
   "metadata": {},
   "outputs": [],
   "source": [
    "char_list=re.split(regex, smi_aug_1)"
   ]
  },
  {
   "cell_type": "code",
   "execution_count": 231,
   "metadata": {},
   "outputs": [],
   "source": [
    "tokenized = []\n",
    "for char in char_list:\n",
    "    if char.startswith('['):\n",
    "        tokenized.append(char)\n",
    "    else:\n",
    "        chars = [unit for unit in char]\n",
    "        [tokenized.append(unit) for unit in chars]"
   ]
  },
  {
   "cell_type": "code",
   "execution_count": 232,
   "metadata": {},
   "outputs": [
    {
     "data": {
      "text/plain": [
       "['c',\n",
       " '1',\n",
       " '(',\n",
       " 'c',\n",
       " 'c',\n",
       " 'c',\n",
       " '(',\n",
       " 'O',\n",
       " 'C',\n",
       " ')',\n",
       " 'c',\n",
       " 'c',\n",
       " '1',\n",
       " ')',\n",
       " 'C',\n",
       " 'N',\n",
       " '(',\n",
       " '[C@H]',\n",
       " '1',\n",
       " '[C@H]',\n",
       " '(',\n",
       " 'N',\n",
       " '(',\n",
       " 'C',\n",
       " '1',\n",
       " '=',\n",
       " 'O',\n",
       " ')',\n",
       " 'C',\n",
       " 'c',\n",
       " '1',\n",
       " 'c',\n",
       " 'c',\n",
       " 'c',\n",
       " '(',\n",
       " 'c',\n",
       " 'c',\n",
       " '1',\n",
       " 'O',\n",
       " 'C',\n",
       " ')',\n",
       " 'O',\n",
       " 'C',\n",
       " ')',\n",
       " 'C',\n",
       " 'C',\n",
       " '=',\n",
       " 'C',\n",
       " '(',\n",
       " 'B',\n",
       " 'r',\n",
       " ')',\n",
       " 'B',\n",
       " 'r',\n",
       " ')',\n",
       " 'C',\n",
       " '(',\n",
       " '=',\n",
       " 'O',\n",
       " ')',\n",
       " 'O',\n",
       " 'C',\n",
       " 'c',\n",
       " '1',\n",
       " 'c',\n",
       " 'c',\n",
       " 'c',\n",
       " 'c',\n",
       " 'c',\n",
       " '1']"
      ]
     },
     "execution_count": 232,
     "metadata": {},
     "output_type": "execute_result"
    }
   ],
   "source": [
    "tokenized"
   ]
  },
  {
   "cell_type": "code",
   "execution_count": null,
   "metadata": {},
   "outputs": [],
   "source": []
  }
 ],
 "metadata": {
  "kernelspec": {
   "display_name": "retro",
   "language": "python",
   "name": "retro"
  },
  "language_info": {
   "codemirror_mode": {
    "name": "ipython",
    "version": 3
   },
   "file_extension": ".py",
   "mimetype": "text/x-python",
   "name": "python",
   "nbconvert_exporter": "python",
   "pygments_lexer": "ipython3",
   "version": "3.8.2"
  }
 },
 "nbformat": 4,
 "nbformat_minor": 4
}
