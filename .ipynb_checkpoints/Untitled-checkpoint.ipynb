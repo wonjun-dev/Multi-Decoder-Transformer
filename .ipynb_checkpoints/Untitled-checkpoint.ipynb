{
 "cells": [
  {
   "cell_type": "code",
   "execution_count": 1,
   "metadata": {},
   "outputs": [
    {
     "name": "stderr",
     "output_type": "stream",
     "text": [
      "RDKit WARNING: [18:53:57] Enabling RDKit 2019.09.3 jupyter extensions\n"
     ]
    }
   ],
   "source": [
    "import rdkit"
   ]
  },
  {
   "cell_type": "code",
   "execution_count": 4,
   "metadata": {},
   "outputs": [],
   "source": [
    "data_path = 'retro_transformer_data/USPTO-50k_no_rxn/'\n",
    "data_name = 'src-train.txt'"
   ]
  },
  {
   "cell_type": "code",
   "execution_count": 5,
   "metadata": {},
   "outputs": [],
   "source": [
    "with open(data_path+data_name, 'r') as f:\n",
    "    lines = f.readlines()"
   ]
  },
  {
   "cell_type": "code",
   "execution_count": 8,
   "metadata": {},
   "outputs": [
    {
     "data": {
      "text/plain": [
       "'O = C 1 C C [C@H] ( C N 2 C C N ( C C O c 3 c c 4 n c n c ( N c 5 c c c ( F ) c ( Cl ) c 5 ) c 4 c c 3 O C 3 C C C C 3 ) C C 2 ) O 1\\n'"
      ]
     },
     "execution_count": 8,
     "metadata": {},
     "output_type": "execute_result"
    }
   ],
   "source": [
    "lines[0]"
   ]
  },
  {
   "cell_type": "code",
   "execution_count": 9,
   "metadata": {},
   "outputs": [],
   "source": [
    "import pandas as pd"
   ]
  },
  {
   "cell_type": "code",
   "execution_count": 17,
   "metadata": {},
   "outputs": [],
   "source": [
    "data = pd.read_csv(data_path+data_name, names=['smiles'])"
   ]
  },
  {
   "cell_type": "code",
   "execution_count": 25,
   "metadata": {},
   "outputs": [
    {
     "data": {
      "text/html": [
       "<div>\n",
       "<style scoped>\n",
       "    .dataframe tbody tr th:only-of-type {\n",
       "        vertical-align: middle;\n",
       "    }\n",
       "\n",
       "    .dataframe tbody tr th {\n",
       "        vertical-align: top;\n",
       "    }\n",
       "\n",
       "    .dataframe thead th {\n",
       "        text-align: right;\n",
       "    }\n",
       "</style>\n",
       "<table border=\"1\" class=\"dataframe\">\n",
       "  <thead>\n",
       "    <tr style=\"text-align: right;\">\n",
       "      <th></th>\n",
       "      <th>smiles</th>\n",
       "    </tr>\n",
       "  </thead>\n",
       "  <tbody>\n",
       "    <tr>\n",
       "      <th>0</th>\n",
       "      <td>O = C 1 C C [C@H] ( C N 2 C C N ( C C O c 3 c ...</td>\n",
       "    </tr>\n",
       "    <tr>\n",
       "      <th>1</th>\n",
       "      <td>N c 1 n c 2 [nH] c ( C C C c 3 c s c ( C ( = O...</td>\n",
       "    </tr>\n",
       "    <tr>\n",
       "      <th>2</th>\n",
       "      <td>C C 1 ( C ) O B ( c 2 c c c c ( N c 3 n c c c ...</td>\n",
       "    </tr>\n",
       "    <tr>\n",
       "      <th>3</th>\n",
       "      <td>C C ( C ) ( C ) O C ( = O ) N C C ( = O ) C C ...</td>\n",
       "    </tr>\n",
       "    <tr>\n",
       "      <th>4</th>\n",
       "      <td>F c 1 c c 2 c ( N C 3 C C C C C C 3 ) n c n c ...</td>\n",
       "    </tr>\n",
       "    <tr>\n",
       "      <th>...</th>\n",
       "      <td>...</td>\n",
       "    </tr>\n",
       "    <tr>\n",
       "      <th>40024</th>\n",
       "      <td>C C C n 1 c c ( C C ) n c 1 - c 1 c n c ( N c ...</td>\n",
       "    </tr>\n",
       "    <tr>\n",
       "      <th>40025</th>\n",
       "      <td>C O c 1 c c c 2 n c c c ( N 3 C [C@@H] 4 C [C@...</td>\n",
       "    </tr>\n",
       "    <tr>\n",
       "      <th>40026</th>\n",
       "      <td>C C O C ( = O ) C 1 ( c 2 c c c ( - c 3 c c c ...</td>\n",
       "    </tr>\n",
       "    <tr>\n",
       "      <th>40027</th>\n",
       "      <td>C O C ( = O ) c 1 n c c ( N S ( = O ) ( = O ) ...</td>\n",
       "    </tr>\n",
       "    <tr>\n",
       "      <th>40028</th>\n",
       "      <td>C c 1 n c 2 c c c c c 2 n 1 - c 1 n c ( N 2 C ...</td>\n",
       "    </tr>\n",
       "  </tbody>\n",
       "</table>\n",
       "<p>40029 rows × 1 columns</p>\n",
       "</div>"
      ],
      "text/plain": [
       "                                                  smiles\n",
       "0      O = C 1 C C [C@H] ( C N 2 C C N ( C C O c 3 c ...\n",
       "1      N c 1 n c 2 [nH] c ( C C C c 3 c s c ( C ( = O...\n",
       "2      C C 1 ( C ) O B ( c 2 c c c c ( N c 3 n c c c ...\n",
       "3      C C ( C ) ( C ) O C ( = O ) N C C ( = O ) C C ...\n",
       "4      F c 1 c c 2 c ( N C 3 C C C C C C 3 ) n c n c ...\n",
       "...                                                  ...\n",
       "40024  C C C n 1 c c ( C C ) n c 1 - c 1 c n c ( N c ...\n",
       "40025  C O c 1 c c c 2 n c c c ( N 3 C [C@@H] 4 C [C@...\n",
       "40026  C C O C ( = O ) C 1 ( c 2 c c c ( - c 3 c c c ...\n",
       "40027  C O C ( = O ) c 1 n c c ( N S ( = O ) ( = O ) ...\n",
       "40028  C c 1 n c 2 c c c c c 2 n 1 - c 1 n c ( N 2 C ...\n",
       "\n",
       "[40029 rows x 1 columns]"
      ]
     },
     "execution_count": 25,
     "metadata": {},
     "output_type": "execute_result"
    }
   ],
   "source": [
    "data"
   ]
  },
  {
   "cell_type": "code",
   "execution_count": 170,
   "metadata": {},
   "outputs": [
    {
     "data": {
      "text/plain": [
       "'O=C1CC[C@H](CN2CCN(CCOc3cc4ncnc(Nc5ccc(F)c(Cl)c5)c4cc3OC3CCCC3)CC2)O1'"
      ]
     },
     "execution_count": 170,
     "metadata": {},
     "output_type": "execute_result"
    }
   ],
   "source": [
    "smi = data.iloc[0].smiles.strip().replace(' ', '')\n",
    "smi"
   ]
  },
  {
   "cell_type": "code",
   "execution_count": 167,
   "metadata": {},
   "outputs": [],
   "source": [
    "import rdkit.Chem.rdmolfiles as R\n",
    "import rdkit.Chem.Draw as D\n",
    "import rdkit.Chem as C"
   ]
  },
  {
   "cell_type": "code",
   "execution_count": 171,
   "metadata": {},
   "outputs": [
    {
     "data": {
      "image/png": "[encoded data removed]",
      "text/plain": [
       "<rdkit.Chem.rdchem.Mol at 0x11b958490>"
      ]
     },
     "execution_count": 171,
     "metadata": {},
     "output_type": "execute_result"
    }
   ],
   "source": [
    "mol = R.MolFromSmiles(smi)\n",
    "mol"
   ]
  },
  {
   "cell_type": "code",
   "execution_count": 176,
   "metadata": {},
   "outputs": [
    {
     "data": {
      "text/plain": [
       "'n1cnc2c(c1Nc1cc(Cl)c(cc1)F)cc(OC1CCCC1)c(c2)OCCN1CCN(CC1)C[C@H]1CCC(O1)=O'"
      ]
     },
     "execution_count": 176,
     "metadata": {},
     "output_type": "execute_result"
    }
   ],
   "source": [
    "# use_atom=[i for i in range(mol.GetNumAtoms())]\n",
    "# mol1_prime=R.MolFragmentToSmiles(mol1, use_atom, canonical=False, doRandom=True)\n",
    "smi_aug_1=C.MolToSmiles(mol, doRandom=True)\n",
    "smi_aug_1\n"
   ]
  },
  {
   "cell_type": "code",
   "execution_count": 177,
   "metadata": {},
   "outputs": [
    {
     "data": {
      "image/png": "[encoded data removed]",
      "text/plain": [
       "<rdkit.Chem.rdchem.Mol at 0x11b958f80>"
      ]
     },
     "execution_count": 177,
     "metadata": {},
     "output_type": "execute_result"
    }
   ],
   "source": [
    "mol_aug_1=R.MolFromSmiles(smi_aug_1)\n",
    "mol_aug_1"
   ]
  },
  {
   "cell_type": "code",
   "execution_count": 181,
   "metadata": {},
   "outputs": [
    {
     "data": {
      "text/plain": [
       "'abc'"
      ]
     },
     "execution_count": 181,
     "metadata": {},
     "output_type": "execute_result"
    }
   ],
   "source": [
    "test_list = ['a', 'b', 'c']\n",
    "test_str = ''.join(test_list)\n",
    "test_str"
   ]
  },
  {
   "cell_type": "code",
   "execution_count": null,
   "metadata": {},
   "outputs": [],
   "source": []
  }
 ],
 "metadata": {
  "kernelspec": {
   "display_name": "retro",
   "language": "python",
   "name": "retro"
  },
  "language_info": {
   "codemirror_mode": {
    "name": "ipython",
    "version": 3
   },
   "file_extension": ".py",
   "mimetype": "text/x-python",
   "name": "python",
   "nbconvert_exporter": "python",
   "pygments_lexer": "ipython3",
   "version": "3.8.2"
  }
 },
 "nbformat": 4,
 "nbformat_minor": 4
}
